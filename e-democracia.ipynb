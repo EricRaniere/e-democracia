{
 "cells": [
  {
   "attachments": {},
   "cell_type": "markdown",
   "metadata": {},
   "source": [
    "# Projeto de captura de dados dos e-democracia\n",
    "O projeto e-democracia da câmara dos deputados possui uma base extensa de audiências públicas e outras interações entre o legislativo e a comunidade brasileira. Visando a disponibilidade de dados para pesquisa e proteção desses dados em caso do projeto ser descontinuado, foi construido esse código de captura de dados e tabulação do formato Json para Csv.\n"
   ]
  },
  {
   "attachments": {},
   "cell_type": "markdown",
   "metadata": {},
   "source": [
    "## Bibliotecas utilizadas"
   ]
  },
  {
   "cell_type": "code",
   "execution_count": 2,
   "metadata": {},
   "outputs": [],
   "source": [
    "import pandas as pd\n",
    "import requests\n",
    "from oauth2client.service_account import ServiceAccountCredentials\n",
    "import pygsheets\n",
    "from datetime import date\n",
    "from urllib.request import urlopen\n",
    "import json\n",
    "from bs4 import BeautifulSoup\n",
    "from tqdm import tqdm"
   ]
  },
  {
   "attachments": {},
   "cell_type": "markdown",
   "metadata": {},
   "source": [
    "### Captura de mensagens do e-democracia\n",
    "Hoje o link de captura dos dados em api pública é o https://edemocracia.camara.leg.br/audiencias/api/message/?page=\n",
    "\n",
    "Para realizar a captura se faz necessário verificar qual a última página da pesquisa, hoje é a de 556"
   ]
  },
  {
   "cell_type": "code",
   "execution_count": 3,
   "metadata": {},
   "outputs": [],
   "source": [
    "# O valor da última pagina deve ser colocado no segundo campo \n",
    "paginas = [*range(1,557)]"
   ]
  },
  {
   "cell_type": "code",
   "execution_count": 4,
   "metadata": {},
   "outputs": [
    {
     "name": "stderr",
     "output_type": "stream",
     "text": [
      " 13%|█▎        | 74/556 [02:54<22:17,  2.78s/it]"
     ]
    }
   ],
   "source": [
    "df1 = pd.DataFrame()\n",
    "for pag in tqdm(paginas):\n",
    "    response = urlopen(f\"https://edemocracia.camara.leg.br/audiencias/api/message/?page={pag}\")\n",
    "    json_data = response.read().decode('utf-8', 'replace')\n",
    "    d = json.loads(json_data)\n",
    "    message = pd.DataFrame(d['results'])\n",
    "    df1 = pd.concat([df1,message], ignore_index=True)"
   ]
  },
  {
   "cell_type": "code",
   "execution_count": null,
   "metadata": {},
   "outputs": [],
   "source": [
    "from pathlib import Path  \n",
    "filepath = Path('DadosEdemocracia/mensagens.csv')  \n",
    "filepath.parent.mkdir(parents=True, exist_ok=True)  \n",
    "df1.to_csv(filepath) "
   ]
  },
  {
   "attachments": {},
   "cell_type": "markdown",
   "metadata": {},
   "source": [
    "### Captura de audiências do e-democracia\n",
    "Hoje o link de captura dos dados em api pública é o https://edemocracia.camara.leg.br/audiencias/api/room/?page=\n",
    "\n",
    "Para realizar a captura se faz necessário verificar qual a última página da pesquisa, hoje é a de 25"
   ]
  },
  {
   "cell_type": "code",
   "execution_count": null,
   "metadata": {},
   "outputs": [],
   "source": [
    "paginas = [*range(1,25)]"
   ]
  },
  {
   "cell_type": "code",
   "execution_count": null,
   "metadata": {},
   "outputs": [
    {
     "name": "stderr",
     "output_type": "stream",
     "text": [
      "100%|██████████| 24/24 [01:54<00:00,  4.78s/it]\n"
     ]
    }
   ],
   "source": [
    "df2 = pd.DataFrame()\n",
    "for pag in tqdm(paginas):\n",
    "    response = urlopen(f\"https://edemocracia.camara.leg.br/audiencias/api/room/?page={pag}\")\n",
    "    json_data = response.read().decode('utf-8', 'replace')\n",
    "    d = json.loads(json_data)\n",
    "    room = pd.DataFrame(d['results'])\n",
    "    df2 = pd.concat([df2,room], ignore_index=True)"
   ]
  },
  {
   "cell_type": "code",
   "execution_count": null,
   "metadata": {},
   "outputs": [],
   "source": [
    "from pathlib import Path  \n",
    "filepath = Path('DadosEdemocracia/audiencias.csv')  \n",
    "filepath.parent.mkdir(parents=True, exist_ok=True)  \n",
    "df2.to_csv(filepath) "
   ]
  },
  {
   "attachments": {},
   "cell_type": "markdown",
   "metadata": {},
   "source": [
    "### Captura de usuarios do e-democracia\n",
    "Hoje o link de captura dos dados em api pública é o https://edemocracia.camara.leg.br/audiencias/api/user/?page=\n",
    "\n",
    "Para realizar a captura se faz necessário verificar qual a última página da pesquisa, hoje é a de 937"
   ]
  },
  {
   "cell_type": "code",
   "execution_count": null,
   "metadata": {},
   "outputs": [],
   "source": [
    "paginas = [*range(1,938)]"
   ]
  },
  {
   "cell_type": "code",
   "execution_count": null,
   "metadata": {},
   "outputs": [
    {
     "name": "stderr",
     "output_type": "stream",
     "text": [
      "100%|██████████| 937/937 [26:46<00:00,  1.71s/it]\n"
     ]
    }
   ],
   "source": [
    "df = pd.DataFrame()\n",
    "for pag in tqdm(paginas):\n",
    "    response = urlopen(f\"https://edemocracia.camara.leg.br/audiencias/api/user/?page={pag}\")\n",
    "    json_data = response.read().decode('utf-8', 'replace')\n",
    "    d = json.loads(json_data)\n",
    "    usuarios = pd.DataFrame(d['results'])\n",
    "    df = pd.concat([df,usuarios], ignore_index=True)"
   ]
  },
  {
   "cell_type": "code",
   "execution_count": null,
   "metadata": {},
   "outputs": [],
   "source": [
    "from pathlib import Path  \n",
    "filepath = Path('DadosEdemocracia/usuarios.csv')  \n",
    "filepath.parent.mkdir(parents=True, exist_ok=True)  \n",
    "df.to_csv(filepath) "
   ]
  }
 ],
 "metadata": {
  "kernelspec": {
   "display_name": "Python 3.10.5 64-bit (system)",
   "language": "python",
   "name": "python3"
  },
  "language_info": {
   "codemirror_mode": {
    "name": "ipython",
    "version": 3
   },
   "file_extension": ".py",
   "mimetype": "text/x-python",
   "name": "python",
   "nbconvert_exporter": "python",
   "pygments_lexer": "ipython3",
   "version": "3.10.5 (tags/v3.10.5:f377153, Jun  6 2022, 16:14:13) [MSC v.1929 64 bit (AMD64)]"
  },
  "orig_nbformat": 4,
  "vscode": {
   "interpreter": {
    "hash": "33c85b06fc38d48917722ecd334b20a89f8dfd53fd82cecce33ea1e192702153"
   }
  }
 },
 "nbformat": 4,
 "nbformat_minor": 2
}
